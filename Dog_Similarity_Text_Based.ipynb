{
  "nbformat": 4,
  "nbformat_minor": 0,
  "metadata": {
    "colab": {
      "provenance": [],
      "gpuType": "T4"
    },
    "kernelspec": {
      "name": "python3",
      "display_name": "Python 3"
    },
    "language_info": {
      "name": "python"
    },
    "accelerator": "GPU"
  },
  "cells": [
    {
      "cell_type": "code",
      "execution_count": null,
      "metadata": {
        "id": "_PyVw5kOeHHK"
      },
      "outputs": [],
      "source": [
        "#pip install faiss-cpu"
      ]
    },
    {
      "cell_type": "code",
      "source": [
        "from openai import OpenAI\n",
        "from google.colab import userdata\n",
        "import base64\n",
        "from PIL import Image\n",
        "import io\n",
        "import faiss\n",
        "import numpy as np\n",
        "import google.generativeai as genai\n",
        "import json\n",
        "import os"
      ],
      "metadata": {
        "id": "c5jFNVNQeXrS"
      },
      "execution_count": null,
      "outputs": []
    },
    {
      "cell_type": "markdown",
      "source": [],
      "metadata": {
        "id": "pfTt-CkyrTa1"
      }
    },
    {
      "cell_type": "code",
      "source": [
        "\n",
        "client = OpenAI(\n",
        "base_url=\"https://generativelanguage.googleapis.com/v1beta/openai\",\n",
        "api_key=userdata.get('GOOGLE_API_KEY')\n",
        ")"
      ],
      "metadata": {
        "id": "mz91XRtcfSAx"
      },
      "execution_count": null,
      "outputs": []
    },
    {
      "cell_type": "code",
      "source": [
        "def encode_image_to_base64(image_path):\n",
        "  with open(image_path, \"rb\") as img_file:\n",
        "    return base64.b64encode(img_file.read()).decode(\"utf-8\")\n",
        "\n",
        "image_path = \"/content/IMG-20250619-WA0070.jpg\" # Path to your dog image\n",
        "image_base64 = encode_image_to_base64(image_path)"
      ],
      "metadata": {
        "id": "pPsyO4WLkxQ0"
      },
      "execution_count": null,
      "outputs": []
    },
    {
      "cell_type": "code",
      "source": [
        "prompt = \"\"\"\n",
        "You are an expert in dog breed recognition and behavior analysis. Given the image of a dog, analyze it and provide the following details in a consistent, structured bullet-point format (one line per attribute, no extra commentary):\n",
        "\n",
        "Breed: (e.g., Labrador Retriever, German Shepherd, Mixed, Unknown)\n",
        "\n",
        "Color & Markings: (e.g., Golden with white chest, Black and tan, Spotted)\n",
        "\n",
        "Fur Type: (e.g., short, long, curly, wiry)\n",
        "\n",
        "Size: (small / medium / large)\n",
        "\n",
        "Ear Type: (e.g., floppy, erect, semi-erect)\n",
        "\n",
        "Tail Type: (e.g., long, curled, bushy, short)\n",
        "\n",
        "Return only the above list using the exact same order and labels. Use plain English, and write “Unknown” if a feature is not visible or determinable.\n",
        "\"\"\""
      ],
      "metadata": {
        "id": "LOFFKpMJhpuj"
      },
      "execution_count": null,
      "outputs": []
    },
    {
      "cell_type": "code",
      "source": [
        "response = client.chat.completions.create(\n",
        "model=\"gemini-1.5-flash\",\n",
        "messages=[\n",
        "{\n",
        "\"role\": \"user\",\n",
        "\"content\": [\n",
        "{\"type\": \"text\", \"text\": prompt},\n",
        "{\n",
        "\"type\": \"image_url\",\n",
        "\"image_url\": {\n",
        "\"url\": f\"data:image/jpeg;base64,{image_base64}\"\n",
        "}\n",
        "}\n",
        "]\n",
        "}\n",
        "],\n",
        "max_tokens=512,\n",
        "temperature=0.7\n",
        ")"
      ],
      "metadata": {
        "id": "yTmfv66tglch"
      },
      "execution_count": null,
      "outputs": []
    },
    {
      "cell_type": "code",
      "source": [
        "print(\"Dog Identity Description:\\n\")\n",
        "desc = response.choices[0].message.content\n",
        "print(desc)"
      ],
      "metadata": {
        "colab": {
          "base_uri": "https://localhost:8080/"
        },
        "id": "uQD-3Vxtgud2",
        "outputId": "e02c3ead-5c6e-4681-b2d8-2d973d71851b"
      },
      "execution_count": null,
      "outputs": [
        {
          "output_type": "stream",
          "name": "stdout",
          "text": [
            "Dog Identity Description:\n",
            "\n",
            "Breed: Mixed\n",
            "\n",
            "Color & Markings: Light Brown\n",
            "\n",
            "Fur Type: Short\n",
            "\n",
            "Size: Medium\n",
            "\n",
            "Ear Type: Semi-erect\n",
            "\n",
            "Tail Type: Unknown\n"
          ]
        }
      ]
    },
    {
      "cell_type": "code",
      "source": [
        "response = genai.embed_content(\n",
        "model=\"models/embedding-001\", # Gemini's text embedding model\n",
        "content=desc.strip(),\n",
        "task_type=\"retrieval_document\" # You can also use \"retrieval_query\"\n",
        ")\n",
        "print(desc.strip())"
      ],
      "metadata": {
        "colab": {
          "base_uri": "https://localhost:8080/",
          "height": 208
        },
        "id": "qjur-OvwmoV_",
        "outputId": "360105fe-8993-4037-8f1c-b1addb01b236"
      },
      "execution_count": null,
      "outputs": [
        {
          "output_type": "stream",
          "name": "stdout",
          "text": [
            "Breed: Mixed\n",
            "\n",
            "Color & Markings: Light Brown\n",
            "\n",
            "Fur Type: Short\n",
            "\n",
            "Size: Medium\n",
            "\n",
            "Ear Type: Semi-erect\n",
            "\n",
            "Tail Type: Unknown\n"
          ]
        }
      ]
    },
    {
      "cell_type": "code",
      "source": [
        "embedding = np.array(response[\"embedding\"], dtype=\"float32\")\n",
        "print(len(embedding))"
      ],
      "metadata": {
        "colab": {
          "base_uri": "https://localhost:8080/"
        },
        "id": "JSebTm87pGrc",
        "outputId": "d59d6f3a-5444-4c0d-849a-83f7ea51c833"
      },
      "execution_count": null,
      "outputs": [
        {
          "output_type": "stream",
          "name": "stdout",
          "text": [
            "768\n"
          ]
        }
      ]
    },
    {
      "cell_type": "code",
      "source": [
        "INDEX_PATH = \"dog_vectors.index\"\n",
        "METADATA_PATH = \"dog_metadata.json\"\n",
        "dimension = len(embedding)\n",
        "if os.path.exists(INDEX_PATH):\n",
        "  index = faiss.read_index(INDEX_PATH)\n",
        "  print(\"yes\")\n",
        "else:\n",
        "  index = faiss.IndexFlatL2(dimension)\n",
        "  print(\"no\")\n",
        "\n",
        "index.add(np.array([embedding]))  # ✅ first add embedding\n",
        "faiss.write_index(index, INDEX_PATH)  # ✅ then save it to disk\n"
      ],
      "metadata": {
        "colab": {
          "base_uri": "https://localhost:8080/"
        },
        "id": "VvCasUF2qqb7",
        "outputId": "82d99967-21e2-4b2e-8893-9f075e79cd41"
      },
      "execution_count": null,
      "outputs": [
        {
          "output_type": "stream",
          "name": "stdout",
          "text": [
            "yes\n"
          ]
        }
      ]
    },
    {
      "cell_type": "code",
      "source": [
        "dimension = len(embedding)\n",
        "import random\n",
        "import string\n",
        "\n",
        "def generate_dog_id(length=6):\n",
        "  characters = string.ascii_uppercase + string.digits\n",
        "  return ''.join(random.choices(characters, k=length))\n",
        "dog_id = generate_dog_id()\n",
        "index.add(np.array([embedding]))      # Add current embedding"
      ],
      "metadata": {
        "id": "8n6wUJ5jp7nH"
      },
      "execution_count": null,
      "outputs": []
    },
    {
      "cell_type": "code",
      "source": [
        "if os.path.exists(METADATA_PATH):\n",
        "  with open(METADATA_PATH, \"r\") as f:\n",
        "    metadata_list = json.load(f)\n",
        "    print(\"yes\")\n",
        "else:\n",
        "  metadata_list = []\n",
        "\n",
        "metadata_list.append({\n",
        "\"dog_id\": dog_id,\n",
        "\"image_path\": image_path,\n",
        "\"description\": desc.strip()\n",
        "})"
      ],
      "metadata": {
        "colab": {
          "base_uri": "https://localhost:8080/"
        },
        "id": "er1QB9GMrO3j",
        "outputId": "ae5638b2-07a7-4548-cff2-b82311031935"
      },
      "execution_count": null,
      "outputs": [
        {
          "output_type": "stream",
          "name": "stdout",
          "text": [
            "yes\n"
          ]
        }
      ]
    },
    {
      "cell_type": "code",
      "source": [
        "with open(METADATA_PATH, \"w\") as f:\n",
        "  json.dump(metadata_list, f, indent=2)\n",
        "\n",
        "print(f\"✅ Successfully stored dog ID: {dog_id} with image: {image_path}\")"
      ],
      "metadata": {
        "colab": {
          "base_uri": "https://localhost:8080/"
        },
        "id": "2mjPc3Qs1ReW",
        "outputId": "6dc27920-64e2-4607-ede9-d1e3c0bd6d3f"
      },
      "execution_count": null,
      "outputs": [
        {
          "output_type": "stream",
          "name": "stdout",
          "text": [
            "✅ Successfully stored dog ID: NK72UU with image: /content/IMG-20250619-WA0070.jpg\n"
          ]
        }
      ]
    },
    {
      "cell_type": "code",
      "source": [
        "query_desc = \"\"\"\n",
        "Breed: Mixed\n",
        "Color & Markings: Light Brown/Fawn\n",
        "Fur Type: Short\n",
        "Size: Medium\n",
        "Ear Type: Semi-erect\n",
        "Tail Type: Unknown\n",
        "\"\"\""
      ],
      "metadata": {
        "id": "B6PNB2vwuATp"
      },
      "execution_count": null,
      "outputs": []
    },
    {
      "cell_type": "code",
      "source": [
        "query_embedding = genai.embed_content(\n",
        "model=\"models/embedding-001\",\n",
        "content=query_desc.strip(),\n",
        "task_type=\"retrieval_query\"\n",
        ")[\"embedding\"]\n",
        "query_embedding = np.array(query_embedding, dtype=\"float32\").reshape(1, -1)"
      ],
      "metadata": {
        "id": "ysNbs-RGuCAM"
      },
      "execution_count": null,
      "outputs": []
    },
    {
      "cell_type": "code",
      "source": [
        "top_k = 5\n",
        "distances, indices = index.search(query_embedding, top_k)"
      ],
      "metadata": {
        "id": "8i03-DdCuEqu"
      },
      "execution_count": null,
      "outputs": []
    },
    {
      "cell_type": "code",
      "source": [
        "print(f\"\\n🔍 Top {top_k} Matches:\")\n",
        "for i, idx in enumerate(indices[0]):\n",
        "  if idx >= len(metadata_list):\n",
        "    continue # skip invalid index\n",
        "  metadata = metadata_list[idx]\n",
        "  similarity = 1 - (distances[0][i] / 2) # Convert L2 distance to similarity approximation\n",
        "  similarity = round(similarity * 100, 2)\n",
        "  print(f\"\\nResult {i+1}\")\n",
        "  print(f\"✅ Dog ID: {metadata['dog_id']}\")\n",
        "  print(f\"🖼️ Image Path: {metadata['image_path']}\")\n",
        "  print(f\"📋 Description:\\n{metadata['description']}\")\n",
        "  print(f\"📊 Similarity: {similarity}%\")\n",
        "\n",
        "print(index.ntotal)"
      ],
      "metadata": {
        "colab": {
          "base_uri": "https://localhost:8080/"
        },
        "id": "jSONEEY9uL2g",
        "outputId": "46fb4ec9-09a1-4264-89b7-ae48061bc88f"
      },
      "execution_count": null,
      "outputs": [
        {
          "output_type": "stream",
          "name": "stdout",
          "text": [
            "\n",
            "🔍 Top 5 Matches:\n",
            "\n",
            "Result 1\n",
            "✅ Dog ID: U0SULA\n",
            "🖼️ Image Path: /content/IMG-20250619-WA0009.jpg\n",
            "📋 Description:\n",
            "Breed: Mixed\n",
            "\n",
            "Color & Markings: Light Brown/Tan\n",
            "\n",
            "Fur Type: Short\n",
            "\n",
            "Size: Medium\n",
            "\n",
            "Ear Type: Semi-erect\n",
            "\n",
            "Tail Type: Unknown\n",
            "📊 Similarity: 81.30000305175781%\n",
            "\n",
            "Result 2\n",
            "✅ Dog ID: MRLBTE\n",
            "🖼️ Image Path: /content/IMG-20250619-WA0099.jpg\n",
            "📋 Description:\n",
            "Breed: Mixed\n",
            "\n",
            "Color & Markings: Light tan/fawn\n",
            "\n",
            "Fur Type: Short\n",
            "\n",
            "Size: Medium\n",
            "\n",
            "Ear Type: Semi-erect\n",
            "\n",
            "Tail Type: Unknown\n",
            "📊 Similarity: 81.08000183105469%\n",
            "\n",
            "Result 3\n",
            "✅ Dog ID: 9SSQX9\n",
            "🖼️ Image Path: /content/IMG-20250619-WA0011.jpg\n",
            "📋 Description:\n",
            "Breed: Mixed\n",
            "\n",
            "Color & Markings: Light Brown\n",
            "\n",
            "Fur Type: Short\n",
            "\n",
            "Size: Medium\n",
            "\n",
            "Ear Type: Semi-erect\n",
            "\n",
            "Tail Type: Unknown\n",
            "📊 Similarity: 81.08000183105469%\n",
            "\n",
            "Result 4\n",
            "✅ Dog ID: 3SG6WI\n",
            "🖼️ Image Path: /content/IMG-20250619-WA0013.jpg\n",
            "📋 Description:\n",
            "Breed: Mixed\n",
            "\n",
            "Color & Markings: Light Brown\n",
            "\n",
            "Fur Type: Short\n",
            "\n",
            "Size: Medium\n",
            "\n",
            "Ear Type: Semi-erect\n",
            "\n",
            "Tail Type: Unknown\n",
            "📊 Similarity: 81.08000183105469%\n",
            "\n",
            "Result 5\n",
            "✅ Dog ID: MP9QSL\n",
            "🖼️ Image Path: /content/IMG-20250619-WA0014.jpg\n",
            "📋 Description:\n",
            "Breed: Mixed\n",
            "\n",
            "Color & Markings: Light Brown\n",
            "\n",
            "Fur Type: Short\n",
            "\n",
            "Size: Medium\n",
            "\n",
            "Ear Type: Semi-erect\n",
            "\n",
            "Tail Type: Unknown\n",
            "📊 Similarity: 81.08000183105469%\n",
            "30\n"
          ]
        }
      ]
    },
    {
      "cell_type": "markdown",
      "source": [
        "## **Approach 2**"
      ],
      "metadata": {
        "id": "SSJxt6YKwZCw"
      }
    },
    {
      "cell_type": "code",
      "source": [
        "print(index.ntotal)"
      ],
      "metadata": {
        "colab": {
          "base_uri": "https://localhost:8080/"
        },
        "id": "z_ZHI8u-zK-W",
        "outputId": "efdd4a13-0555-4809-8cc2-378eb9ba9bb2"
      },
      "execution_count": null,
      "outputs": [
        {
          "output_type": "stream",
          "name": "stdout",
          "text": [
            "30\n"
          ]
        }
      ]
    },
    {
      "cell_type": "code",
      "source": [
        "for i, entry in enumerate(metadata_list):\n",
        "  print(f\"🆔 ID: {entry['dog_id']}\")\n",
        "  print(f\"🖼️ Image: {entry['image_path']}\")\n",
        "  print(f\"📄 Description:\\n{entry['description']}\")"
      ],
      "metadata": {
        "colab": {
          "base_uri": "https://localhost:8080/"
        },
        "id": "QJZRGu6VzNzA",
        "outputId": "b50c04aa-f7f2-45a3-c357-172eeec0ad01"
      },
      "execution_count": null,
      "outputs": [
        {
          "output_type": "stream",
          "name": "stdout",
          "text": [
            "🆔 ID: RMAWFT\n",
            "🖼️ Image: /content/IMG-20250619-WA0031.jpg\n",
            "📄 Description:\n",
            "Breed: Mixed\n",
            "\n",
            "Color & Markings: Black\n",
            "\n",
            "Fur Type: Short\n",
            "\n",
            "Size: Medium\n",
            "\n",
            "Ear Type: Semi-erect\n",
            "\n",
            "Tail Type: Unknown\n",
            "🆔 ID: 9XZI74\n",
            "🖼️ Image: /content/IMG-20250619-WA0008.jpg\n",
            "📄 Description:\n",
            "Breed: Mixed\n",
            "\n",
            "Color & Markings: Black and white\n",
            "\n",
            "Fur Type: Short\n",
            "\n",
            "Size: Medium\n",
            "\n",
            "Ear Type: Semi-erect\n",
            "\n",
            "Tail Type: Long\n",
            "🆔 ID: U0SULA\n",
            "🖼️ Image: /content/IMG-20250619-WA0009.jpg\n",
            "📄 Description:\n",
            "Breed: Mixed\n",
            "\n",
            "Color & Markings: Light Brown/Tan\n",
            "\n",
            "Fur Type: Short\n",
            "\n",
            "Size: Medium\n",
            "\n",
            "Ear Type: Semi-erect\n",
            "\n",
            "Tail Type: Unknown\n",
            "🆔 ID: WJPM0N\n",
            "🖼️ Image: /content/IMG-20250619-WA0010.jpg\n",
            "📄 Description:\n",
            "Breed: Mixed\n",
            "\n",
            "Color & Markings: Black and white\n",
            "\n",
            "Fur Type: Short\n",
            "\n",
            "Size: Medium\n",
            "\n",
            "Ear Type: Semi-erect\n",
            "\n",
            "Tail Type: Long\n",
            "🆔 ID: 9SSQX9\n",
            "🖼️ Image: /content/IMG-20250619-WA0011.jpg\n",
            "📄 Description:\n",
            "Breed: Mixed\n",
            "\n",
            "Color & Markings: Light Brown\n",
            "\n",
            "Fur Type: Short\n",
            "\n",
            "Size: Medium\n",
            "\n",
            "Ear Type: Semi-erect\n",
            "\n",
            "Tail Type: Unknown\n",
            "🆔 ID: PIF7DE\n",
            "🖼️ Image: /content/IMG-20250619-WA0012.jpg\n",
            "📄 Description:\n",
            "* Breed: Mixed\n",
            "* Color & Markings: White with black patch on back\n",
            "* Fur Type: Short\n",
            "* Size: Medium\n",
            "* Ear Type: Semi-erect\n",
            "* Tail Type: Short\n",
            "🆔 ID: 3SG6WI\n",
            "🖼️ Image: /content/IMG-20250619-WA0013.jpg\n",
            "📄 Description:\n",
            "Breed: Mixed\n",
            "\n",
            "Color & Markings: Light Brown\n",
            "\n",
            "Fur Type: Short\n",
            "\n",
            "Size: Medium\n",
            "\n",
            "Ear Type: Semi-erect\n",
            "\n",
            "Tail Type: Unknown\n",
            "🆔 ID: MP9QSL\n",
            "🖼️ Image: /content/IMG-20250619-WA0014.jpg\n",
            "📄 Description:\n",
            "Breed: Mixed\n",
            "\n",
            "Color & Markings: Light Brown\n",
            "\n",
            "Fur Type: Short\n",
            "\n",
            "Size: Medium\n",
            "\n",
            "Ear Type: Semi-erect\n",
            "\n",
            "Tail Type: Unknown\n",
            "🆔 ID: NNF2HZ\n",
            "🖼️ Image: /content/IMG-20250619-WA0015.jpg\n",
            "📄 Description:\n",
            "Breed: Mixed\n",
            "\n",
            "Color & Markings: Light Brown/Red\n",
            "\n",
            "Fur Type: Short\n",
            "\n",
            "Size: Medium\n",
            "\n",
            "Ear Type: Semi-erect\n",
            "\n",
            "Tail Type: Unknown\n",
            "🆔 ID: 5I509G\n",
            "🖼️ Image: /content/IMG-20250619-WA0016.jpg\n",
            "📄 Description:\n",
            "Breed: Mixed\n",
            "\n",
            "Color & Markings: Black and white\n",
            "\n",
            "Fur Type: Short\n",
            "\n",
            "Size: Medium\n",
            "\n",
            "Ear Type: Semi-erect\n",
            "\n",
            "Tail Type: Long\n",
            "🆔 ID: T4IW3F\n",
            "🖼️ Image: /content/IMG-20250619-WA0032.jpg\n",
            "📄 Description:\n",
            "Breed: Mixed\n",
            "\n",
            "Color & Markings: Black\n",
            "\n",
            "Fur Type: Short\n",
            "\n",
            "Size: Medium\n",
            "\n",
            "Ear Type: Semi-erect\n",
            "\n",
            "Tail Type: Unknown\n",
            "🆔 ID: TOLCM0\n",
            "🖼️ Image: /content/IMG-20250619-WA0033.jpg\n",
            "📄 Description:\n",
            "* Breed: Mixed\n",
            "* Color & Markings: Light brown, possibly with faint darker markings\n",
            "* Fur Type: Short\n",
            "* Size: Medium\n",
            "* Ear Type: Semi-erect\n",
            "* Tail Type: Long\n",
            "🆔 ID: LP4YIH\n",
            "🖼️ Image: /content/IMG-20250619-WA0034.jpg\n",
            "📄 Description:\n",
            "Breed: Mixed\n",
            "\n",
            "Color & Markings: Light Brown\n",
            "\n",
            "Fur Type: Short\n",
            "\n",
            "Size: Medium\n",
            "\n",
            "Ear Type: Semi-erect\n",
            "\n",
            "Tail Type: Long\n",
            "🆔 ID: 932JSA\n",
            "🖼️ Image: /content/IMG-20250619-WA0035.jpg\n",
            "📄 Description:\n",
            "Breed: Mixed\n",
            "\n",
            "Color & Markings: Light tan, possibly with faint darker markings\n",
            "\n",
            "Fur Type: Short\n",
            "\n",
            "Size: Medium\n",
            "\n",
            "Ear Type: Semi-erect\n",
            "\n",
            "Tail Type: Long\n",
            "🆔 ID: 4MMMGX\n",
            "🖼️ Image: /content/IMG-20250619-WA0036.jpg\n",
            "📄 Description:\n",
            "* Breed: Mixed\n",
            "* Color & Markings: White with dark brown/black patches\n",
            "* Fur Type: Short\n",
            "* Size: Medium\n",
            "* Ear Type: Semi-erect\n",
            "* Tail Type: Unknown\n",
            "🆔 ID: F631T5\n",
            "🖼️ Image: /content/IMG-20250619-WA0058.jpg\n",
            "📄 Description:\n",
            "Breed: Mixed\n",
            "\n",
            "Color & Markings: White and light brown\n",
            "\n",
            "Fur Type: Short\n",
            "\n",
            "Size: Medium\n",
            "\n",
            "Ear Type: Semi-erect\n",
            "\n",
            "Tail Type: Short\n",
            "🆔 ID: B8V7I8\n",
            "🖼️ Image: /content/IMG-20250619-WA0079.jpg\n",
            "📄 Description:\n",
            "* Breed: Mixed\n",
            "* Color & Markings: Light Brown\n",
            "* Fur Type: Short\n",
            "* Size: Medium\n",
            "* Ear Type: Semi-erect\n",
            "* Tail Type: Unknown\n",
            "🆔 ID: MRLBTE\n",
            "🖼️ Image: /content/IMG-20250619-WA0099.jpg\n",
            "📄 Description:\n",
            "Breed: Mixed\n",
            "\n",
            "Color & Markings: Light tan/fawn\n",
            "\n",
            "Fur Type: Short\n",
            "\n",
            "Size: Medium\n",
            "\n",
            "Ear Type: Semi-erect\n",
            "\n",
            "Tail Type: Unknown\n",
            "🆔 ID: ZV021U\n",
            "🖼️ Image: /content/IMG-20250619-WA0106.jpg\n",
            "📄 Description:\n",
            "Breed: Mixed\n",
            "\n",
            "Color & Markings: Black and white\n",
            "\n",
            "Fur Type: Short\n",
            "\n",
            "Size: Medium\n",
            "\n",
            "Ear Type: Semi-erect\n",
            "\n",
            "Tail Type: Unknown\n",
            "🆔 ID: V80XRO\n",
            "🖼️ Image: /content/IMG-20250619-WA0108.jpg\n",
            "📄 Description:\n",
            "Breed: Mixed\n",
            "\n",
            "Color & Markings: Black with white markings\n",
            "\n",
            "Fur Type: Short\n",
            "\n",
            "Size: Medium\n",
            "\n",
            "Ear Type: Semi-erect\n",
            "\n",
            "Tail Type: Unknown\n",
            "🆔 ID: OWHGQ6\n",
            "🖼️ Image: /content/IMG-20250619-WA0102.jpg\n",
            "📄 Description:\n",
            "Breed: Mixed\n",
            "\n",
            "Color & Markings: White\n",
            "\n",
            "Fur Type: Short\n",
            "\n",
            "Size: Medium\n",
            "\n",
            "Ear Type: Semi-erect\n",
            "\n",
            "Tail Type: Short\n",
            "🆔 ID: Y2LMEZ\n",
            "🖼️ Image: /content/IMG-20250619-WA0091.jpg\n",
            "📄 Description:\n",
            "* Breed: Mixed\n",
            "* Color & Markings: Black\n",
            "* Fur Type: Short\n",
            "* Size: Medium\n",
            "* Ear Type: Semi-erect\n",
            "* Tail Type: Unknown\n",
            "🆔 ID: 6SO3NU\n",
            "🖼️ Image: /content/IMG-20250619-WA0087.jpg\n",
            "📄 Description:\n",
            "* Breed: Unknown\n",
            "* Color & Markings: Light Brown\n",
            "* Fur Type: Short\n",
            "* Size: Medium\n",
            "* Ear Type: Semi-erect\n",
            "* Tail Type: Short\n",
            "🆔 ID: 4QB50W\n",
            "🖼️ Image: /content/IMG-20250619-WA0084.jpg\n",
            "📄 Description:\n",
            "* Breed: Mixed\n",
            "* Color & Markings: Gray and tan\n",
            "* Fur Type: Short\n",
            "* Size: Medium\n",
            "* Ear Type: Semi-erect\n",
            "* Tail Type: Unknown\n",
            "🆔 ID: Q8DJWX\n",
            "🖼️ Image: /content/IMG-20250619-WA0100.jpg\n",
            "📄 Description:\n",
            "* Breed: Mixed\n",
            "* Color & Markings: Off-white\n",
            "* Fur Type: Short\n",
            "* Size: Medium\n",
            "* Ear Type: Semi-erect\n",
            "* Tail Type: Short\n",
            "🆔 ID: J6SRH9\n",
            "🖼️ Image: /content/IMG-20250619-WA0090.jpg\n",
            "📄 Description:\n",
            "Breed: Mixed\n",
            "\n",
            "Color & Markings: Light Brown\n",
            "\n",
            "Fur Type: Short\n",
            "\n",
            "Size: Medium\n",
            "\n",
            "Ear Type: Semi-erect\n",
            "\n",
            "Tail Type: Unknown\n",
            "🆔 ID: V1AEAL\n",
            "🖼️ Image: /content/IMG-20250619-WA0075.jpg\n",
            "📄 Description:\n",
            "Breed: Mixed\n",
            "\n",
            "Color & Markings: Light Brown\n",
            "\n",
            "Fur Type: Short\n",
            "\n",
            "Size: Medium\n",
            "\n",
            "Ear Type: Semi-erect\n",
            "\n",
            "Tail Type: Long\n",
            "🆔 ID: CDXYYT\n",
            "🖼️ Image: /content/IMG-20250619-WA0071.jpg\n",
            "📄 Description:\n",
            "Breed: Mixed\n",
            "\n",
            "Color & Markings: White with black patches\n",
            "\n",
            "Fur Type: Short\n",
            "\n",
            "Size: Medium\n",
            "\n",
            "Ear Type: Semi-erect\n",
            "\n",
            "Tail Type: Unknown\n",
            "🆔 ID: NK72UU\n",
            "🖼️ Image: /content/IMG-20250619-WA0070.jpg\n",
            "📄 Description:\n",
            "Breed: Mixed\n",
            "\n",
            "Color & Markings: Light Brown\n",
            "\n",
            "Fur Type: Short\n",
            "\n",
            "Size: Medium\n",
            "\n",
            "Ear Type: Semi-erect\n",
            "\n",
            "Tail Type: Unknown\n"
          ]
        }
      ]
    }
  ]
}